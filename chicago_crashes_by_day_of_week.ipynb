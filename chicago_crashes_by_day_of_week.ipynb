{
 "cells": [
  {
   "cell_type": "code",
   "execution_count": null,
   "metadata": {},
   "outputs": [],
   "source": [
    "import requests\n",
    "import json\n",
    "import pandas as pd\n",
    "pd.set_option('display.max_rows', 500)\n",
    "import datetime\n",
    "import seaborn as sns\n",
    "import matplotlib.pyplot as plt"
   ]
  },
  {
   "cell_type": "code",
   "execution_count": null,
   "metadata": {},
   "outputs": [],
   "source": [
    "df1 = pd.read_csv('https://data.cityofchicago.org/resource/85ca-t3if.csv?$limit=50000', dtype={\"crash_hour\": \"Int64\"})\n",
    "df2 = pd.read_csv('https://data.cityofchicago.org/resource/85ca-t3if.csv?$limit=50000&$offset=50000', dtype={\"crash_hour\": \"Int64\"})\n",
    "df3 = pd.read_csv('https://data.cityofchicago.org/resource/85ca-t3if.csv?$limit=50000&$offset=100000', dtype={\"crash_hour\": \"Int64\"})\n",
    "df4 = pd.read_csv('https://data.cityofchicago.org/resource/85ca-t3if.csv?$limit=50000&$offset=150000', dtype={\"crash_hour\": \"Int64\"})\n",
    "df5 = pd.read_csv('https://data.cityofchicago.org/resource/85ca-t3if.csv?$limit=50000&$offset=200000', dtype={\"crash_hour\": \"Int64\"})\n",
    "df6 = pd.read_csv('https://data.cityofchicago.org/resource/85ca-t3if.csv?$limit=50000&$offset=250000', dtype={\"crash_hour\": \"Int64\"})\n",
    "df7 = pd.read_csv('https://data.cityofchicago.org/resource/85ca-t3if.csv?$limit=50000&$offset=300000', dtype={\"crash_hour\": \"Int64\"})\n",
    "df8 = pd.read_csv('https://data.cityofchicago.org/resource/85ca-t3if.csv?$limit=50000&$offset=350000', dtype={\"crash_hour\": \"Int64\"})\n",
    "df9 = pd.read_csv('https://data.cityofchicago.org/resource/85ca-t3if.csv?$limit=50000&$offset=400000', dtype={\"crash_hour\": \"Int64\"})"
   ]
  },
  {
   "cell_type": "code",
   "execution_count": null,
   "metadata": {},
   "outputs": [],
   "source": [
    "df = pd.concat([df1,df2,df3,df4,df5,df6,df7,df8,df9])"
   ]
  },
  {
   "cell_type": "code",
   "execution_count": null,
   "metadata": {},
   "outputs": [],
   "source": [
    "df1 = df[['crash_record_id', 'crash_date', 'crash_day_of_week', 'crash_hour', 'crash_month']]"
   ]
  },
  {
   "cell_type": "code",
   "execution_count": null,
   "metadata": {},
   "outputs": [],
   "source": [
    "df1"
   ]
  },
  {
   "cell_type": "code",
   "execution_count": null,
   "metadata": {},
   "outputs": [],
   "source": [
    "df1['crash_date'] = pd.to_datetime(df1['crash_date'])"
   ]
  },
  {
   "cell_type": "code",
   "execution_count": null,
   "metadata": {},
   "outputs": [],
   "source": [
    "df1['year'] = df1.crash_date.dt.year"
   ]
  },
  {
   "cell_type": "code",
   "execution_count": null,
   "metadata": {},
   "outputs": [],
   "source": [
    "def day(day):\n",
    "    if day==1:\n",
    "        name='Sunday'\n",
    "    elif day==2:\n",
    "        name='Monday'\n",
    "    elif day==3:\n",
    "        name='Tuesday'\n",
    "    elif day==4:\n",
    "        name='Wednesday'\n",
    "    elif day==5:\n",
    "        name='Thursday'\n",
    "    elif day==6:\n",
    "        name='Friday'\n",
    "    elif day==7:\n",
    "        name='Saturday'\n",
    "    return name\n",
    "\n",
    "df1['day_name'] = df1.crash_day_of_week.apply(lambda x: day(x))"
   ]
  },
  {
   "cell_type": "code",
   "execution_count": null,
   "metadata": {},
   "outputs": [],
   "source": [
    "mask = (df1['crash_date'] > '2017-09-01') & (df1['crash_date'] < '2020-07-24')"
   ]
  },
  {
   "cell_type": "code",
   "execution_count": null,
   "metadata": {},
   "outputs": [],
   "source": [
    "df1 = df1.loc[mask]"
   ]
  },
  {
   "cell_type": "code",
   "execution_count": null,
   "metadata": {},
   "outputs": [],
   "source": [
    "df2 = df1.groupby(['day_name', 'crash_hour']).crash_record_id.count()\n",
    "df2 = df2.reset_index()\n",
    "df2.columns = df2.columns.get_level_values(0)\n",
    "df2['perc'] = df2.crash_record_id /(df2.crash_record_id.sum())\n"
   ]
  },
  {
   "cell_type": "code",
   "execution_count": null,
   "metadata": {},
   "outputs": [],
   "source": []
  },
  {
   "cell_type": "code",
   "execution_count": null,
   "metadata": {},
   "outputs": [],
   "source": [
    "heatmap1_data = pd.pivot_table(df2, values='perc', \n",
    "                     index=['day_name'], \n",
    "                     columns='crash_hour')"
   ]
  },
  {
   "cell_type": "code",
   "execution_count": null,
   "metadata": {},
   "outputs": [],
   "source": [
    "days_order = ['Monday', 'Tuesday', 'Wednesday', 'Thursday', 'Friday', 'Saturday', 'Sunday']\n",
    "heatmap_df = heatmap_df.reindex(index=days_order)\n",
    "heatmap_df"
   ]
  },
  {
   "cell_type": "code",
   "execution_count": null,
   "metadata": {},
   "outputs": [],
   "source": [
    "sns.set_style(\"white\")\n",
    "\n",
    "plt.figure(figsize=(14, 6))\n",
    "\n",
    "x_axis_labels = ['12AM','1','2','3','4','5','6','7','8','9','10','11','12PM','1','2','3','4','5','6','7','8','9','10','11']\n",
    "\n",
    "ax = sns.heatmap(heatmap_df, linewidths=1, xticklabels=x_axis_labels, cmap='Reds', cbar=None)\n",
    "ax.set(xlabel=None, ylabel=None)\n",
    "ax.text(x=0.5, y=1.07, s='Car Crashes by Time of Week in Chicago', fontsize=16, ha='center', va='bottom', transform=ax.transAxes)\n",
    "ax.text(x=0.5, y=1.02, s='Relative Frequency of Reported Crashes by Day, Hour', fontsize=8, alpha=0.75, ha='center', va='bottom', transform=ax.transAxes)\n",
    "fig = ax.get_figure()\n",
    "fig.savefig('chicago_crash.png', dpi=600) "
   ]
  },
  {
   "cell_type": "code",
   "execution_count": null,
   "metadata": {},
   "outputs": [],
   "source": []
  }
 ],
 "metadata": {
  "kernelspec": {
   "display_name": "Python 3",
   "language": "python",
   "name": "python3"
  },
  "language_info": {
   "codemirror_mode": {
    "name": "ipython",
    "version": 3
   },
   "file_extension": ".py",
   "mimetype": "text/x-python",
   "name": "python",
   "nbconvert_exporter": "python",
   "pygments_lexer": "ipython3",
   "version": "3.7.6"
  }
 },
 "nbformat": 4,
 "nbformat_minor": 4
}
